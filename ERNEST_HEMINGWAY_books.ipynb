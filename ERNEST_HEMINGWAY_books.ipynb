{
  "nbformat": 4,
  "nbformat_minor": 0,
  "metadata": {
    "colab": {
      "name": "ERNEST HEMINGWAY_books.ipynb",
      "provenance": [],
      "authorship_tag": "ABX9TyNuEhxJ0QICXjLuLcyTrbWH",
      "include_colab_link": true
    },
    "kernelspec": {
      "name": "python3",
      "display_name": "Python 3"
    },
    "language_info": {
      "name": "python"
    }
  },
  "cells": [
    {
      "cell_type": "markdown",
      "metadata": {
        "id": "view-in-github",
        "colab_type": "text"
      },
      "source": [
        "<a href=\"https://colab.research.google.com/github/HarTigran/Project-6-Small-Data-Engineering-NLP-and-AI-APIs-with-No-Code-Low-Code-/blob/main/ERNEST_HEMINGWAY_books.ipynb\" target=\"_parent\"><img src=\"https://colab.research.google.com/assets/colab-badge.svg\" alt=\"Open In Colab\"/></a>"
      ]
    },
    {
      "cell_type": "markdown",
      "metadata": {
        "id": "lVqvQFU-7py5"
      },
      "source": [
        "## Upload data"
      ]
    },
    {
      "cell_type": "markdown",
      "metadata": {
        "id": "jEWrtK5N76BC"
      },
      "source": [
        "Download book ACROSS THE RIVER AND INTO THE TREES"
      ]
    },
    {
      "cell_type": "code",
      "metadata": {
        "colab": {
          "base_uri": "https://localhost:8080/"
        },
        "id": "4xW9Picv7auG",
        "outputId": "8d03c5d4-47d6-4fcc-9869-c2252f2d05a5"
      },
      "source": [
        "!wget https://raw.githubusercontent.com/HarTigran/Project-6-Small-Data-Engineering-NLP-and-AI-APIs-with-No-Code-Low-Code-/main/ACROSS%20THE%20RIVER%20%20AND%20%20INTO%20THE%20TREES.txt"
      ],
      "execution_count": 2,
      "outputs": [
        {
          "output_type": "stream",
          "name": "stdout",
          "text": [
            "--2021-09-19 21:23:26--  https://raw.githubusercontent.com/HarTigran/Project-6-Small-Data-Engineering-NLP-and-AI-APIs-with-No-Code-Low-Code-/main/ACROSS%20THE%20RIVER%20%20AND%20%20INTO%20THE%20TREES.txt\n",
            "Resolving raw.githubusercontent.com (raw.githubusercontent.com)... 185.199.108.133, 185.199.109.133, 185.199.110.133, ...\n",
            "Connecting to raw.githubusercontent.com (raw.githubusercontent.com)|185.199.108.133|:443... connected.\n",
            "HTTP request sent, awaiting response... 200 OK\n",
            "Length: 368367 (360K) [text/plain]\n",
            "Saving to: ‘ACROSS THE RIVER  AND  INTO THE TREES.txt’\n",
            "\n",
            "ACROSS THE RIVER  A 100%[===================>] 359.73K  --.-KB/s    in 0.02s   \n",
            "\n",
            "2021-09-19 21:23:26 (15.2 MB/s) - ‘ACROSS THE RIVER  AND  INTO THE TREES.txt’ saved [368367/368367]\n",
            "\n"
          ]
        }
      ]
    }
  ]
}